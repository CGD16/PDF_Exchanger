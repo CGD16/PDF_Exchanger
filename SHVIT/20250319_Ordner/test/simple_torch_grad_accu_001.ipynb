{
 "cells": [
  {
   "cell_type": "code",
   "execution_count": null,
   "metadata": {},
   "outputs": [],
   "source": []
  },
  {
   "cell_type": "code",
   "execution_count": null,
   "metadata": {},
   "outputs": [],
   "source": [
    "import os\n",
    "import csv\n",
    "\n",
    "import torch\n",
    "import torch.nn as nn\n",
    "import torch.nn.functional as F\n",
    "\n",
    "from torch.utils.data import Dataset, DataLoader\n",
    "from torch.autograd import Variable\n",
    "from torch.nn.utils import clip_grad_norm_\n",
    "\n",
    "import torch.optim as optim\n",
    "from torch.optim.lr_scheduler import ReduceLROnPlateau, LambdaLR\n",
    "\n",
    "\n",
    "# Set environment variables for PyTorch\n",
    "os.environ['CUDA_VISIBLE_DEVICES'] = '0'  # Specify which GPU to use, if needed\n",
    "\n",
    "# PyTorch does not have direct equivalents for some TensorFlow environment settings,\n",
    "# but you can manage GPU memory growth and logging through PyTorch's API.\n",
    "\n",
    "# Disable debug information (PyTorch does not have a direct equivalent, but you can manage logging)\n",
    "# PyTorch logging can be managed through Python's logging module or by setting verbosity levels.\n",
    "\n",
    "# Check if CUDA is available and set device\n",
    "device = torch.device('cuda' if torch.cuda.is_available() else 'cpu')\n",
    "device = \"cpu\"\n",
    "print(device)\n",
    "\n",
    "# Print PyTorch version\n",
    "print(torch.__version__)\n",
    "\n",
    "# Print number of available GPUs\n",
    "print(\"Num GPUs Available: \", torch.cuda.device_count())\n",
    "\n",
    "# List local devices (PyTorch does not have a direct equivalent, but you can check CUDA devices)\n",
    "for i in range(torch.cuda.device_count()):\n",
    "    print(f\"Device {i}: {torch.cuda.get_device_name(i)}\")"
   ]
  },
  {
   "cell_type": "code",
   "execution_count": null,
   "metadata": {},
   "outputs": [],
   "source": [
    "import cv2\n",
    "import random\n",
    "import glob\n",
    "import math\n",
    "\n",
    "import numpy as np\n",
    "import seaborn as sns\n",
    "import matplotlib.pyplot as plt"
   ]
  },
  {
   "cell_type": "code",
   "execution_count": null,
   "metadata": {},
   "outputs": [],
   "source": [
    "HEIGHT, WIDTH = 96, 256\n",
    "NUM_SAMPLES = 100\n",
    "NUM_CLASSES = 7\n",
    "\n",
    "BATCH_SIZE = 4\n",
    "ACCUMULATION_STEPS = 8"
   ]
  },
  {
   "cell_type": "code",
   "execution_count": null,
   "metadata": {},
   "outputs": [],
   "source": [
    "class SampleDataset(Dataset):\n",
    "    def __init__(self, num_samples, num_classes, height, width):\n",
    "        super().__init__()\n",
    "        self.num_samples = num_samples\n",
    "        self.input_data = torch.rand(num_samples, 3, height, width)  # Input data in the range [0, 1]\n",
    "        self.output_data = torch.randint(0, num_classes+1, (num_samples, height, width))  # Output data with integers from 0 to 12\n",
    "\n",
    "    def __len__(self):\n",
    "        return self.num_samples\n",
    "\n",
    "    def __getitem__(self, idx):\n",
    "        return self.input_data[idx], self.output_data[idx]"
   ]
  },
  {
   "cell_type": "code",
   "execution_count": null,
   "metadata": {},
   "outputs": [],
   "source": [
    "# train_gen = DataGenerator(train_folder)\n",
    "train_gen = SampleDataset(NUM_SAMPLES, NUM_CLASSES, HEIGHT, WIDTH)\n",
    "val_gen = SampleDataset(NUM_SAMPLES, NUM_CLASSES, HEIGHT, WIDTH)\n",
    "\n",
    "train_dataloader = DataLoader(train_gen, batch_size=BATCH_SIZE, shuffle=True)\n",
    "val_dataloader = DataLoader(val_gen, batch_size=BATCH_SIZE, shuffle=False)\n",
    "\n",
    "imgs, segs = next(iter(train_dataloader))\n",
    "\n",
    "print(imgs.shape, segs.shape)\n",
    "print(np.unique(segs))\n",
    "\n",
    "imgs = imgs.to(device)\n",
    "segs = segs.to(device)"
   ]
  },
  {
   "cell_type": "code",
   "execution_count": null,
   "metadata": {},
   "outputs": [],
   "source": []
  },
  {
   "cell_type": "code",
   "execution_count": null,
   "metadata": {},
   "outputs": [],
   "source": [
    "class SimpleSegmentationModel(nn.Module):\n",
    "    def __init__(self, num_classes):\n",
    "        super(SimpleSegmentationModel, self).__init__()\n",
    "        \n",
    "        # Define the network architecture\n",
    "        self.conv1 = nn.Conv2d(3, 64, kernel_size=3, padding=1)\n",
    "        self.conv2 = nn.Conv2d(64, 128, kernel_size=3, padding=1)\n",
    "        self.conv3 = nn.Conv2d(128, 256, kernel_size=3, padding=1)\n",
    "        \n",
    "        self.pool = nn.MaxPool2d(kernel_size=2, stride=2)\n",
    "        \n",
    "        # Define final convolutional layer for classification\n",
    "        self.final_conv = nn.Conv2d(256, num_classes, kernel_size=1)\n",
    "        \n",
    "        # Define upsampling layers\n",
    "        self.upsample1 = nn.Upsample(scale_factor=2, mode='bilinear', align_corners=False)\n",
    "        self.upsample2 = nn.Upsample(scale_factor=2, mode='bilinear', align_corners=False)\n",
    "    \n",
    "    def forward(self, x):\n",
    "        x = self.pool(F.relu(self.conv1(x)))  # Out: (batch, 64, height//2, width//2)\n",
    "        x = self.pool(F.relu(self.conv2(x)))  # Out: (batch, 128, height//4, width//4)\n",
    "        x = F.relu(self.conv3(x))             # Out: (batch, 256, height//4, width//4)\n",
    "        \n",
    "        x = self.upsample1(x)                 # Up: (batch, 256, height//2, width//2)\n",
    "        x = self.upsample2(x)                 # Up: (batch, 256, height, width)\n",
    "        \n",
    "        x = self.final_conv(x)                # Out: (batch, num_classes, height, width)\n",
    "        \n",
    "        return x\n",
    "    \n",
    "    \n",
    "model = SimpleSegmentationModel(num_classes=NUM_CLASSES)\n",
    "model.to(device) # Move the model to the appropriate device (GPU if available)"
   ]
  },
  {
   "cell_type": "code",
   "execution_count": null,
   "metadata": {},
   "outputs": [],
   "source": []
  },
  {
   "cell_type": "code",
   "execution_count": null,
   "metadata": {},
   "outputs": [],
   "source": [
    "def iou_metric(y_true, y_pred, smooth=1, num_classes=NUM_CLASSES):\n",
    "    # Flatten y_true\n",
    "    y_true = y_true.reshape(-1).float()  # Ensure y_true is float32 and flatten\n",
    "\n",
    "    # Reshape y_pred to match\n",
    "    y_pred = y_pred.permute(0, 2, 3, 1).reshape(-1,num_classes).float()  # (batch_size * height * width, num_classes)\n",
    "\n",
    "    iou_per_class = []\n",
    "    for class_id in range(num_classes):\n",
    "        true_mask = (y_true == class_id).float()  # Binary mask for class\n",
    "        pred_mask = y_pred[:, class_id]  # Softmax probability for class\n",
    "\n",
    "        intersection = torch.sum(true_mask * pred_mask)\n",
    "        union = torch.sum(true_mask) + torch.sum(pred_mask) - intersection\n",
    "\n",
    "        iou = (intersection + smooth) / (union + smooth)\n",
    "        iou_per_class.append(iou)  # Store IoU for each class\n",
    "\n",
    "    return torch.mean(torch.stack(iou_per_class))\n",
    "\n",
    "def jaccard_distance_loss(y_true, y_pred, smooth=1, num_classes=NUM_CLASSES):\n",
    "    iou = iou_metric(y_true, y_pred, smooth=smooth, num_classes=num_classes)\n",
    "    return 1 - iou"
   ]
  },
  {
   "cell_type": "code",
   "execution_count": null,
   "metadata": {},
   "outputs": [],
   "source": [
    "EPOCHS = [20,50]\n",
    "learning_rate = 1e-4"
   ]
  },
  {
   "cell_type": "code",
   "execution_count": null,
   "metadata": {},
   "outputs": [],
   "source": [
    "# Define optimizer\n",
    "optimizer = torch.optim.Adam(model.parameters(), lr=1e-4)  # Start with small LR"
   ]
  },
  {
   "cell_type": "code",
   "execution_count": null,
   "metadata": {},
   "outputs": [],
   "source": [
    "max_grad_norm = 1.0\n",
    "\n",
    "for epoch in range(EPOCHS[1]):\n",
    "    \n",
    "    train_iou, train_loss = 0, 0\n",
    "    model.train()  # Set the model to training mode\n",
    "    for batch_idx, (imgs, segs) in enumerate(train_dataloader):\n",
    "        imgs = Variable(imgs).to(device)\n",
    "        segs = Variable(segs).to(device)\n",
    "        \n",
    "        output = model(imgs)#, training=True)\n",
    "        # print(output.shape)\n",
    "        loss = jaccard_distance_loss(segs, output)\n",
    "        train_loss += loss.item()\n",
    "        # print(\"after loss: \", loss)\n",
    "        # loss.backward(inputs=tuple(model.parameters()), retain_graph=True) # <------------------ ????\n",
    "        loss.backward() # <------------------ ????\n",
    "        # print(\"after backward\")\n",
    "        \n",
    "        if (batch_idx + 1) % ACCUMULATION_STEPS == 0:\n",
    "            clip_grad_norm_(model.parameters(), max_grad_norm)\n",
    "            optimizer.step()\n",
    "            optimizer.zero_grad()        \n",
    "    \n",
    "    \n",
    "    # Validation phase\n",
    "    val_iou, val_loss = 0, 0\n",
    "    # model.eval()  # Set the model to evaluation mode\n",
    "    # with torch.no_grad():\n",
    "    #     for imgs, segs in val_dataloader:\n",
    "    #         output = model(imgs, training=False)\n",
    "    #         loss = jaccard_distance_loss(segs, output)\n",
    "    #         val_loss += loss.item()\n",
    "    #         val_iou += (1.0 - loss.item())\n",
    "    print(f\"Epoch {epoch + 1}, iou: {train_iou:.4f}, loss: {train_loss:.4f}, val_iou: {val_iou:.4f}, val_loss: {val_loss:.4f}\")"
   ]
  }
 ],
 "metadata": {
  "kernelspec": {
   "display_name": "torch126",
   "language": "python",
   "name": "python3"
  },
  "language_info": {
   "codemirror_mode": {
    "name": "ipython",
    "version": 3
   },
   "file_extension": ".py",
   "mimetype": "text/x-python",
   "name": "python",
   "nbconvert_exporter": "python",
   "pygments_lexer": "ipython3",
   "version": "3.10.13"
  }
 },
 "nbformat": 4,
 "nbformat_minor": 2
}
